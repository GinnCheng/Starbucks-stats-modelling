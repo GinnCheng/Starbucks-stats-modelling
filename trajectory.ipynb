{
 "cells": [
  {
   "cell_type": "code",
   "execution_count": 181,
   "id": "b3a47c9e-cddc-438c-a3f4-6e0af1f73681",
   "metadata": {},
   "outputs": [],
   "source": [
    "import pandas as pd\n",
    "import numpy as np\n",
    "import scipy.io as sc\n",
    "import h5py\n",
    "import matplotlib.pyplot as plt\n",
    "import seaborn as sns\n",
    "from sklearn.model_selection import train_test_split\n",
    "from sklearn.preprocessing import StandardScaler\n",
    "from keras.models import Sequential\n",
    "from keras.layers import Dense"
   ]
  },
  {
   "cell_type": "code",
   "execution_count": null,
   "id": "2e95bbba-08c6-4bb3-9c0b-764d3ebd7734",
   "metadata": {},
   "outputs": [],
   "source": [
    "# load data\n",
    "%ls ../../Datasets/Turbulence\n",
    "df = pd.read_csv('../../Datasets/Turbulence/kepsilon.csv')\n",
    "df.reset_index(names='Unnamed:0',inplace=True)\n",
    "df.index.name = 't_step'\n",
    "df.drop(columns=['Unnamed:0', 'Unnamed: 0'],inplace=True)\n",
    "df.info()\n",
    "df.head()"
   ]
  },
  {
   "cell_type": "code",
   "execution_count": 187,
   "id": "d5d368e0-6225-4421-824e-821686e9c328",
   "metadata": {},
   "outputs": [
    {
     "data": {
      "text/plain": [
       "array(['PHLL_case_0p5', 'PHLL_case_0p8', 'PHLL_case_1p0', 'PHLL_case_1p2',\n",
       "       'PHLL_case_1p5', 'DUCT_1100', 'DUCT_1150', 'DUCT_1250',\n",
       "       'DUCT_1300', 'DUCT_1350', 'DUCT_1400', 'DUCT_1500', 'DUCT_1600',\n",
       "       'DUCT_1800', 'DUCT_2000', 'DUCT_2205', 'DUCT_2400', 'DUCT_2600',\n",
       "       'DUCT_2900', 'DUCT_3200', 'DUCT_3500', 'BUMP_h20', 'BUMP_h26',\n",
       "       'BUMP_h31', 'BUMP_h38', 'BUMP_h42', 'CBFS_13700', 'CNDV_12600',\n",
       "       'CNDV_20580'], dtype=object)"
      ]
     },
     "execution_count": 187,
     "metadata": {},
     "output_type": "execute_result"
    }
   ],
   "source": [
    "df.Case.unique()"
   ]
  },
  {
   "cell_type": "code",
   "execution_count": null,
   "id": "3e3b13ad-ed58-4113-a873-d1b1c8344ec0",
   "metadata": {},
   "outputs": [],
   "source": [
    "# wrangle data\n",
    "df = df[df.Case.str.contains('DUCT')]\n",
    "df['t'] = df.Case.str.extract('(\\d+)', expand=False)\n",
    "df.t = df.t.astype(int)\n",
    "df.set_index('t',inplace=True)\n",
    "dfsl = df.loc[:,'kepsilon_Cx':'kepsilon_Uz']\n",
    "dfsl.columns = dfsl.columns.str.replace('kepsilon_','')\n",
    "dfsl.drop(columns='Cx',inplace=True)\n",
    "dfsl = dfsl[(dfsl.Cy >= -0.1) & (dfsl.Cy <= 0.1) & (dfsl.Cz >= -0.1) & (dfsl.Cz <= 0.1)]\n",
    "dfsl.head()"
   ]
  },
  {
   "cell_type": "code",
   "execution_count": 200,
   "id": "9a305c43-6191-40d5-adc4-88245702ae89",
   "metadata": {},
   "outputs": [
    {
     "data": {
      "image/png": "[encoded data removed]",
      "text/plain": [
       "<Figure size 1000x600 with 1 Axes>"
      ]
     },
     "metadata": {},
     "output_type": "display_data"
    }
   ],
   "source": [
    "# visualise all the points\n",
    "coord = dfsl[['Cy', 'Cz']]\n",
    "# coord.duplicated().sum()\n",
    "plt.figure(figsize=(10,6))\n",
    "plt.scatter(dfsl.Cy, dfsl.Cz)\n",
    "plt.show()"
   ]
  },
  {
   "cell_type": "code",
   "execution_count": 201,
   "id": "0f9955e5-ca3d-4903-8812-b3aa4a2ea8a4",
   "metadata": {},
   "outputs": [
    {
     "data": {
      "text/html": [
       "<div>\n",
       "<style scoped>\n",
       "    .dataframe tbody tr th:only-of-type {\n",
       "        vertical-align: middle;\n",
       "    }\n",
       "\n",
       "    .dataframe tbody tr th {\n",
       "        vertical-align: top;\n",
       "    }\n",
       "\n",
       "    .dataframe thead th {\n",
       "        text-align: right;\n",
       "    }\n",
       "</style>\n",
       "<table border=\"1\" class=\"dataframe\">\n",
       "  <thead>\n",
       "    <tr style=\"text-align: right;\">\n",
       "      <th></th>\n",
       "      <th>Cy</th>\n",
       "      <th>Cz</th>\n",
       "      <th>Ux</th>\n",
       "      <th>Uy</th>\n",
       "      <th>Uz</th>\n",
       "    </tr>\n",
       "    <tr>\n",
       "      <th>t</th>\n",
       "      <th></th>\n",
       "      <th></th>\n",
       "      <th></th>\n",
       "      <th></th>\n",
       "      <th></th>\n",
       "    </tr>\n",
       "  </thead>\n",
       "  <tbody>\n",
       "    <tr>\n",
       "      <th>1100</th>\n",
       "      <td>0.012456</td>\n",
       "      <td>-0.082369</td>\n",
       "      <td>0.694952</td>\n",
       "      <td>1.133760e-11</td>\n",
       "      <td>-8.010710e-12</td>\n",
       "    </tr>\n",
       "    <tr>\n",
       "      <th>1100</th>\n",
       "      <td>0.012456</td>\n",
       "      <td>-0.060108</td>\n",
       "      <td>0.697996</td>\n",
       "      <td>1.016020e-11</td>\n",
       "      <td>-5.796210e-12</td>\n",
       "    </tr>\n",
       "    <tr>\n",
       "      <th>1100</th>\n",
       "      <td>0.012456</td>\n",
       "      <td>-0.036819</td>\n",
       "      <td>0.700154</td>\n",
       "      <td>8.975590e-12</td>\n",
       "      <td>-3.662180e-12</td>\n",
       "    </tr>\n",
       "    <tr>\n",
       "      <th>1100</th>\n",
       "      <td>0.012456</td>\n",
       "      <td>-0.012456</td>\n",
       "      <td>0.701304</td>\n",
       "      <td>7.981220e-12</td>\n",
       "      <td>-1.650950e-12</td>\n",
       "    </tr>\n",
       "    <tr>\n",
       "      <th>1100</th>\n",
       "      <td>0.036819</td>\n",
       "      <td>-0.082369</td>\n",
       "      <td>0.693761</td>\n",
       "      <td>8.985220e-12</td>\n",
       "      <td>-6.305060e-12</td>\n",
       "    </tr>\n",
       "  </tbody>\n",
       "</table>\n",
       "</div>"
      ],
      "text/plain": [
       "            Cy        Cz        Ux            Uy            Uz\n",
       "t                                                             \n",
       "1100  0.012456 -0.082369  0.694952  1.133760e-11 -8.010710e-12\n",
       "1100  0.012456 -0.060108  0.697996  1.016020e-11 -5.796210e-12\n",
       "1100  0.012456 -0.036819  0.700154  8.975590e-12 -3.662180e-12\n",
       "1100  0.012456 -0.012456  0.701304  7.981220e-12 -1.650950e-12\n",
       "1100  0.036819 -0.082369  0.693761  8.985220e-12 -6.305060e-12"
      ]
     },
     "execution_count": 201,
     "metadata": {},
     "output_type": "execute_result"
    }
   ],
   "source": [
    "dfsl.head()"
   ]
  },
  {
   "cell_type": "code",
   "execution_count": null,
   "id": "a6f784eb-552e-4fef-a3d5-cf5edf748bff",
   "metadata": {},
   "outputs": [],
   "source": []
  }
 ],
 "metadata": {
  "kernelspec": {
   "display_name": "Python 3 (ipykernel)",
   "language": "python",
   "name": "python3"
  },
  "language_info": {
   "codemirror_mode": {
    "name": "ipython",
    "version": 3
   },
   "file_extension": ".py",
   "mimetype": "text/x-python",
   "name": "python",
   "nbconvert_exporter": "python",
   "pygments_lexer": "ipython3",
   "version": "3.8.9"
  }
 },
 "nbformat": 4,
 "nbformat_minor": 5
}
