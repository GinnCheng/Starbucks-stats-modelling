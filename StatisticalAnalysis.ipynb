{
 "cells": [
  {
   "cell_type": "code",
   "execution_count": 7,
   "id": "c9e9d4db-3f74-4e73-8f67-bc7856ced5b9",
   "metadata": {},
   "outputs": [
    {
     "name": "stdout",
     "output_type": "stream",
     "text": [
      "coffee_dataset.csv                judicial_dataset_predictions.csv\n",
      "fraud_dataset.csv                 judicial_dataset_pvalues.csv\n",
      "house_price_area_only.csv         parachute_dataset.csv\n",
      "house_prices.csv\n"
     ]
    }
   ],
   "source": [
    "%ls ../../Datasets/CoffeeStatistics/"
   ]
  },
  {
   "cell_type": "code",
   "execution_count": 17,
   "id": "c2a8c6d5-04ad-4e7c-aa28-7a3c365bef12",
   "metadata": {},
   "outputs": [],
   "source": [
    "import pandas as pd\n",
    "import numpy as np\n",
    "import matplotlib.pyplot as plt"
   ]
  },
  {
   "cell_type": "code",
   "execution_count": 9,
   "id": "cb9bd7ea-1f07-49a9-baff-88ec3f64c858",
   "metadata": {},
   "outputs": [],
   "source": [
    "df = pd.read_csv('../../Datasets/CoffeeStatistics/coffee_dataset.csv')"
   ]
  },
  {
   "cell_type": "code",
   "execution_count": 10,
   "id": "f481561f-ad68-497f-ace0-231f9544539e",
   "metadata": {},
   "outputs": [
    {
     "data": {
      "text/html": [
       "<div>\n",
       "<style scoped>\n",
       "    .dataframe tbody tr th:only-of-type {\n",
       "        vertical-align: middle;\n",
       "    }\n",
       "\n",
       "    .dataframe tbody tr th {\n",
       "        vertical-align: top;\n",
       "    }\n",
       "\n",
       "    .dataframe thead th {\n",
       "        text-align: right;\n",
       "    }\n",
       "</style>\n",
       "<table border=\"1\" class=\"dataframe\">\n",
       "  <thead>\n",
       "    <tr style=\"text-align: right;\">\n",
       "      <th></th>\n",
       "      <th>user_id</th>\n",
       "      <th>age</th>\n",
       "      <th>drinks_coffee</th>\n",
       "      <th>height</th>\n",
       "    </tr>\n",
       "  </thead>\n",
       "  <tbody>\n",
       "    <tr>\n",
       "      <th>0</th>\n",
       "      <td>4509</td>\n",
       "      <td>&lt;21</td>\n",
       "      <td>False</td>\n",
       "      <td>64.538179</td>\n",
       "    </tr>\n",
       "    <tr>\n",
       "      <th>1</th>\n",
       "      <td>1864</td>\n",
       "      <td>&gt;=21</td>\n",
       "      <td>True</td>\n",
       "      <td>65.824249</td>\n",
       "    </tr>\n",
       "    <tr>\n",
       "      <th>2</th>\n",
       "      <td>2060</td>\n",
       "      <td>&lt;21</td>\n",
       "      <td>False</td>\n",
       "      <td>71.319854</td>\n",
       "    </tr>\n",
       "    <tr>\n",
       "      <th>3</th>\n",
       "      <td>7875</td>\n",
       "      <td>&gt;=21</td>\n",
       "      <td>True</td>\n",
       "      <td>68.569404</td>\n",
       "    </tr>\n",
       "    <tr>\n",
       "      <th>4</th>\n",
       "      <td>6254</td>\n",
       "      <td>&lt;21</td>\n",
       "      <td>True</td>\n",
       "      <td>64.020226</td>\n",
       "    </tr>\n",
       "  </tbody>\n",
       "</table>\n",
       "</div>"
      ],
      "text/plain": [
       "   user_id   age  drinks_coffee     height\n",
       "0     4509   <21          False  64.538179\n",
       "1     1864  >=21           True  65.824249\n",
       "2     2060   <21          False  71.319854\n",
       "3     7875  >=21           True  68.569404\n",
       "4     6254   <21           True  64.020226"
      ]
     },
     "execution_count": 10,
     "metadata": {},
     "output_type": "execute_result"
    }
   ],
   "source": [
    "df.head()"
   ]
  },
  {
   "cell_type": "code",
   "execution_count": 14,
   "id": "225c4f7a-75ac-40df-b078-4f4376e533e6",
   "metadata": {},
   "outputs": [
    {
     "data": {
      "text/plain": [
       "(2974, 4)"
      ]
     },
     "execution_count": 14,
     "metadata": {},
     "output_type": "execute_result"
    }
   ],
   "source": [
    "df.shape"
   ]
  },
  {
   "cell_type": "code",
   "execution_count": 13,
   "id": "f0b7a731-a018-438c-913f-f12423661433",
   "metadata": {},
   "outputs": [],
   "source": [
    "drink_coffee = df[df.drinks_coffee == True]\n",
    "no_drink_coffee = df[df.drinks_coffee == False]"
   ]
  },
  {
   "cell_type": "code",
   "execution_count": 24,
   "id": "8365590e-e00d-4ba9-bbb5-e805b7ff03db",
   "metadata": {},
   "outputs": [],
   "source": [
    "height_diff = []\n",
    "for i in range(10000):\n",
    "    tmp_diff = drink_coffee.sample(300).height.mean() - no_drink_coffee.height.sample(300).mean()\n",
    "    height_diff.append(tmp_diff)"
   ]
  },
  {
   "cell_type": "code",
   "execution_count": 32,
   "id": "43a67f94-cbc0-4491-a4a0-a59cf235e3b1",
   "metadata": {},
   "outputs": [],
   "source": [
    "perct_95 = np.percentile(height_diff,[2.5,97.5])"
   ]
  },
  {
   "cell_type": "code",
   "execution_count": 34,
   "id": "4a526357-870f-4b87-83ff-7e8958a1a7c9",
   "metadata": {},
   "outputs": [],
   "source": [
    "height_diff_sl = [x for x in height_diff if (x >= perct_95[0]) and (x <= perct_95[1])]"
   ]
  },
  {
   "cell_type": "code",
   "execution_count": 35,
   "id": "3ac5639d-5562-4434-9537-f7b93c094444",
   "metadata": {},
   "outputs": [
    {
     "data": {
      "image/png": "[encoded data removed]",
      "text/plain": [
       "<Figure size 1000x800 with 1 Axes>"
      ]
     },
     "metadata": {},
     "output_type": "display_data"
    }
   ],
   "source": [
    "plt.figure(figsize=(10.,8))\n",
    "plt.hist(height_diff)\n",
    "plt.show()"
   ]
  },
  {
   "cell_type": "code",
   "execution_count": null,
   "id": "48f13120-5b8d-46d0-9d22-7818dcd958b6",
   "metadata": {},
   "outputs": [],
   "source": []
  }
 ],
 "metadata": {
  "kernelspec": {
   "display_name": "Python 3 (ipykernel)",
   "language": "python",
   "name": "python3"
  },
  "language_info": {
   "codemirror_mode": {
    "name": "ipython",
    "version": 3
   },
   "file_extension": ".py",
   "mimetype": "text/x-python",
   "name": "python",
   "nbconvert_exporter": "python",
   "pygments_lexer": "ipython3",
   "version": "3.8.9"
  }
 },
 "nbformat": 4,
 "nbformat_minor": 5
}
